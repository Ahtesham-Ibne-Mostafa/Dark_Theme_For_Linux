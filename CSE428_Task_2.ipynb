{
  "nbformat": 4,
  "nbformat_minor": 0,
  "metadata": {
    "colab": {
      "provenance": [],
      "toc_visible": true,
      "include_colab_link": true
    },
    "kernelspec": {
      "name": "python3",
      "display_name": "Python 3"
    },
    "language_info": {
      "name": "python"
    }
  },
  "cells": [
    {
      "cell_type": "markdown",
      "metadata": {
        "id": "view-in-github",
        "colab_type": "text"
      },
      "source": [
        "<a href=\"https://colab.research.google.com/github/Ahtesham-Ibne-Mostafa/Dark_Theme_For_Linux/blob/main/CSE428_Task_2.ipynb\" target=\"_parent\"><img src=\"https://colab.research.google.com/assets/colab-badge.svg\" alt=\"Open In Colab\"/></a>"
      ]
    },
    {
      "cell_type": "code",
      "source": [
        "import numpy as np\n",
        "from skimage import io, color, exposure, img_as_float\n",
        "import matplotlib.pyplot as plt"
      ],
      "metadata": {
        "id": "9KEIye4Qy_83"
      },
      "execution_count": null,
      "outputs": []
    },
    {
      "cell_type": "markdown",
      "source": [
        "# Problem 1"
      ],
      "metadata": {
        "id": "yOoZUKbm0kLO"
      }
    },
    {
      "cell_type": "code",
      "execution_count": null,
      "metadata": {
        "id": "ky2FIkE4yCoq"
      },
      "outputs": [],
      "source": [
        "# import the \"good.jpeg\" image\n",
        "I =\n",
        "\n",
        "# normalize the image\n",
        "I_norm =\n",
        "\n",
        "# perform arithmetic operations (contrast increase/decrease) on the image\n",
        "I_add =  # increase by 0.5\n",
        "I_sub = # decrease by 0.4\n",
        "I_mul = # multiply by 2\n",
        "I_div =  # divide by 3"
      ]
    },
    {
      "cell_type": "code",
      "source": [
        "plt.figure(figsize=(15,15))\n",
        "plt.subplot(1, 5, 1)\n",
        "io.imshow(I_norm)\n",
        "plt.axis(\"off\")\n",
        "plt.title('Original Image')\n",
        "\n",
        "plt.subplot(1, 5, 2)\n",
        "io.imshow(I_add)\n",
        "plt.axis(\"off\")\n",
        "plt.title('Increased by 0.5')\n",
        "\n",
        "plt.subplot(1,5, 3)\n",
        "io.imshow(I_sub)\n",
        "plt.axis(\"off\")\n",
        "plt.title('Deccreased by 0.4')\n",
        "\n",
        "plt.subplot(1, 5, 4)\n",
        "io.imshow(I_mul)\n",
        "plt.axis(\"off\")\n",
        "plt.title('Multiplication by 2')\n",
        "\n",
        "plt.subplot(1, 5, 5)\n",
        "io.imshow(I_div)\n",
        "plt.axis(\"off\")\n",
        "plt.title('Division by 3')"
      ],
      "metadata": {
        "id": "2iEh22I_K-x5"
      },
      "execution_count": null,
      "outputs": []
    },
    {
      "cell_type": "markdown",
      "source": [
        "# Problem 2"
      ],
      "metadata": {
        "id": "rCIPawUQ0mOd"
      }
    },
    {
      "cell_type": "code",
      "source": [
        "# import the \"land.jpeg\" image\n",
        "I =\n",
        "\n",
        "# normalize the image\n",
        "I_norm =\n",
        "\n",
        "# calculate the histogram (not the PDF) of the original image\n",
        "hist_org, nbins_org = exposure.histogram(I_norm, nbins=256, normalize = False)\n",
        "\n",
        "plt.figure(figsize=(10,10))\n",
        "plt.subplot(1, 2, 1)\n",
        "io.imshow(I_norm)\n",
        "plt.title('Original Image')\n",
        "\n",
        "plt.subplot(1, 2, 2)\n",
        "plt.plot(nbins_org,hist_org)\n",
        "plt.title('Original histogram')"
      ],
      "metadata": {
        "id": "pKQOAmHAxhe9"
      },
      "execution_count": null,
      "outputs": []
    },
    {
      "cell_type": "code",
      "source": [
        "# contrast stretch the image to improve the image quality\n",
        "I_stretched =\n",
        "\n",
        "# calculate the histogram (not the PDF) of the stretched image\n",
        "hist_str, nbins_str =\n",
        "\n",
        "\n",
        "plt.figure(figsize=(10,10))\n",
        "plt.subplot(1, 2, 1)\n",
        "plt.plot(nbins_str,hist_str)\n",
        "plt.title('Stretched  histogram')\n",
        "\n",
        "plt.subplot(1, 2, 2)\n",
        "io.imshow(I_stretched)\n",
        "plt.title('Stretched  Image')"
      ],
      "metadata": {
        "id": "7c3jfAOIzjLI"
      },
      "execution_count": null,
      "outputs": []
    },
    {
      "cell_type": "markdown",
      "source": [
        "# Problem 3"
      ],
      "metadata": {
        "id": "MpnT_IQTyONe"
      }
    },
    {
      "cell_type": "code",
      "source": [
        "# for the \"land.jpeg\" image calculate the CDF\n",
        "chist, cbins =\n",
        "\n",
        "# perform global histogram equalization on the image\n",
        "I_histeq =\n",
        "\n",
        "# calculate the histogram of the equalized image\n",
        "hist_I_histeq, bins_I_histeq =\n",
        "\n",
        "# calculate the CDF of the equalized image\n",
        "chist_I_histeq, cbins_I_histeq =\n",
        "\n",
        "plt.rcParams['figure.figsize'] = (18,6)\n",
        "plt.subplot(2, 3, 1)\n",
        "io.imshow(I)\n",
        "plt.axis(\"off\")\n",
        "plt.title(\"image\")\n",
        "\n",
        "plt.subplot(2, 3, 2)\n",
        "plt.plot(nbins_org, hist_org, 'k')\n",
        "plt.xlabel(\"Pixel values\")\n",
        "plt.title(\"Histogram\")\n",
        "\n",
        "plt.subplot(2, 3, 3)\n",
        "plt.plot(cbins, chist, 'r', lw=3)\n",
        "plt.ylabel(\"Percentage\")\n",
        "plt.title(\"Cumulative histogram\")\n",
        "\n",
        "plt.subplot(2, 3, 4)\n",
        "io.imshow(I_histeq)\n",
        "plt.axis(\"off\")\n",
        "plt.title(\"image\")\n",
        "\n",
        "plt.subplot(2, 3, 5)\n",
        "plt.plot(bins_I_histeq, hist_I_histeq, 'k')\n",
        "plt.xlabel(\"Pixel values\")\n",
        "plt.title(\"Histogram\")\n",
        "\n",
        "plt.subplot(2, 3, 3)\n",
        "plt.plot(cbins_I_histeq, chist_I_histeq, 'r', lw=3)\n",
        "plt.ylabel(\"Percentage\")\n",
        "plt.title(\"Cumulative histogram\")"
      ],
      "metadata": {
        "id": "y0aaQTBQyPPl"
      },
      "execution_count": null,
      "outputs": []
    }
  ]
}